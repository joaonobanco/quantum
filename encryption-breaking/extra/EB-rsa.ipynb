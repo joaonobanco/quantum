{
 "cells": [
  {
   "cell_type": "code",
   "execution_count": 1,
   "id": "724432a7-a8ce-4eac-9406-2d7272aef03a",
   "metadata": {},
   "outputs": [],
   "source": [
    "# imports for RSA\n",
    "from numpy import gcd, lcm, mean\n",
    "from numpy.random import seed, randint\n",
    "from scipy import special\n",
    "from sympy import primerange, prime\n",
    "\n",
    "import itertools\n",
    "import time\n",
    "import matplotlib.pyplot as plt"
   ]
  },
  {
   "cell_type": "code",
   "execution_count": 2,
   "id": "36a3d066-522c-4230-9fe9-7d1a3ce18c37",
   "metadata": {},
   "outputs": [],
   "source": [
    "alphabet = [w for w in \"ABCDEFGHIJKLMNOPQRSTUVWXYZ',.!?_ \"]\n",
    "encoding = range(0,33,1)\n",
    "\n",
    "encoder = dict(zip(alphabet, encoding))\n",
    "decoder = dict(zip(encoding, alphabet))\n",
    "\n",
    "def charencode(decoded_text):\n",
    "    \n",
    "    encoded_text = []\n",
    "    \n",
    "    for letter in decoded_text:\n",
    "        encoded_text.append(encoder.get(letter))\n",
    "        \n",
    "    return encoded_text\n",
    "\n",
    "def chardecode(encoded_text):\n",
    "    \n",
    "    decoded_text = []\n",
    "    \n",
    "    for code in encoded_text:\n",
    "        decoded_text.append(decoder.get(code))\n",
    "        \n",
    "    return decoded_text\n",
    "\n",
    "def rsa(P, Q):\n",
    "    N = P * Q # modulus <-- the hard number to crack!\n",
    "\n",
    "    if N % 2 == 0:\n",
    "        val = P if P % 2 == 0 else Q\n",
    "        raise ValueError(f\"{N} can not be divisible by 2.\",\n",
    "                         f\"{P} and {Q} are incompatible with Shor's Algorithm.\")\n",
    "\n",
    "    # Euler's Totient\n",
    "    L = (Q - 1) * (P - 1) # number of non-common factors (1, N)\n",
    "    # Carmichael's Totient\n",
    "    #L = lcm(Q-1, P-1)\n",
    "\n",
    "    for E in range(2, L): # between [2, L)\n",
    "        if gcd(L, E) * gcd(N, E) == 1: # coprime with both L and N\n",
    "            break # E is public value\n",
    "\n",
    "    D = 1\n",
    "    while True:\n",
    "        if D * E % L == 1 and D != E and D != N:\n",
    "            break # D is private value\n",
    "        D += 1\n",
    "\n",
    "    return ((E, N), (D, N))\n",
    "\n",
    "def decrypt(code, key):\n",
    "    D, N = key\n",
    "    \n",
    "    code = [int(code[i:i+2]) for i in range(0,len(code),2)]\n",
    "    \n",
    "    dec = [d**D % N for d in code]\n",
    "    \n",
    "    dec = chardecode(dec)\n",
    "    \n",
    "    #return \"\".join(dec)\n",
    "    return dec\n",
    "\n",
    "def encrypt(text, key):\n",
    "    E, N = key\n",
    "    \n",
    "    text = charencode(text)\n",
    "    \n",
    "    enc = [d**E % N for d in text]\n",
    "    \n",
    "    return \"\".join([f\"{w:02}\" for w in enc])"
   ]
  },
  {
   "cell_type": "code",
   "execution_count": 5,
   "id": "29b5869f-5ee7-4e10-981d-e0b07db325be",
   "metadata": {},
   "outputs": [
    {
     "name": "stdout",
     "output_type": "stream",
     "text": [
      "Modulus: 35\n",
      "Public key: (11, 35)\n",
      "Private key: (59, 35)\n"
     ]
    }
   ],
   "source": [
    "#Fix the (p,q) for the RSA\n",
    "p = 5\n",
    "q = 7\n",
    "\n",
    "N = p*q\n",
    "print(f\"Modulus: {N}\")\n",
    "\n",
    "(E,N), (D,N) = rsa(p, q)\n",
    "\n",
    "print(f\"Public key: {(E,N)}\")\n",
    "print(f\"Private key: {(D,N)}\")"
   ]
  },
  {
   "cell_type": "code",
   "execution_count": 6,
   "id": "653fcf41",
   "metadata": {},
   "outputs": [],
   "source": [
    "avg_timing = []\n",
    "\n",
    "for j in range(1,800,1):\n",
    "    \n",
    "    timings = []\n",
    "    \n",
    "    \n",
    "    for i in range(0,2,1):\n",
    "        tic = time.perf_counter()\n",
    "        decrypt(encrypt(\"A\"*j, (E,N)), (D,N))\n",
    "        toc = time.perf_counter()\n",
    "        \n",
    "        timings.append(toc - tic)\n",
    "\n",
    "    avg_timing.append(mean(timings))"
   ]
  },
  {
   "cell_type": "code",
   "execution_count": 7,
   "id": "aa8a6a9f",
   "metadata": {},
   "outputs": [
    {
     "data": {
      "text/plain": [
       "Text(0.5, 0, 'Letras')"
      ]
     },
     "execution_count": 7,
     "metadata": {},
     "output_type": "execute_result"
    },
    {
     "data": {
      "image/png": "[encoded data removed]",
      "text/plain": [
       "<Figure size 640x480 with 1 Axes>"
      ]
     },
     "metadata": {},
     "output_type": "display_data"
    }
   ],
   "source": [
    "plt.plot(range(1,800,1), avg_timing, \"b\")\n",
    "plt.ylabel(\"Seconds\")\n",
    "plt.xlabel(\"Letras\")"
   ]
  },
  {
   "cell_type": "code",
   "execution_count": 32,
   "id": "d3a2cf7e",
   "metadata": {},
   "outputs": [
    {
     "name": "stdout",
     "output_type": "stream",
     "text": [
      "167\n",
      "13695\n"
     ]
    }
   ],
   "source": [
    "#Fix Message and change N \n",
    "pmax = 1000\n",
    "primes = list(primerange(3,pmax))\n",
    "print(len(primes))\n",
    "\n",
    "prime_pairs = list(itertools.combinations(primes[-1000:-1], 2))\n",
    "print(len(prime_pairs))"
   ]
  },
  {
   "cell_type": "code",
   "execution_count": 33,
   "id": "06d0941c",
   "metadata": {},
   "outputs": [],
   "source": [
    "#Sort from the multiplication result\n",
    "prime_pairs = sorted(prime_pairs, key=lambda e: e[0]*e[1])"
   ]
  },
  {
   "cell_type": "code",
   "execution_count": 34,
   "id": "1b3044ef",
   "metadata": {},
   "outputs": [],
   "source": [
    "#print(prime_pairs)"
   ]
  },
  {
   "cell_type": "code",
   "execution_count": 35,
   "id": "d949dabe",
   "metadata": {},
   "outputs": [
    {
     "name": "stdout",
     "output_type": "stream",
     "text": [
      "13695\n"
     ]
    }
   ],
   "source": [
    "NN = []\n",
    "\n",
    "for p,q in prime_pairs:\n",
    "    if p*q % 2 == 0:\n",
    "        pass\n",
    "    else:\n",
    "        NN.append(p*q)\n",
    "\n",
    "NN.sort()\n",
    "\n",
    "print(len(NN))"
   ]
  },
  {
   "cell_type": "code",
   "execution_count": 46,
   "id": "3d96b34a-c416-4622-a489-c1200b7343dd",
   "metadata": {
    "tags": []
   },
   "outputs": [],
   "source": [
    "avg_timing = []\n",
    "rep = 2\n",
    "Ndots = len(prime_pairs)//10\n",
    "\n",
    "for (p,q) in prime_pairs[::Ndots]:\n",
    "    \n",
    "    timings = []\n",
    "\n",
    "    (E,N), (D,N) = rsa(p, q)\n",
    "    \n",
    "    #print(f\"{E} and {D}\")\n",
    "    \n",
    "    for i in range(0,rep,1):\n",
    "        enc= encrypt(\"BANCO DE PORTUGAL\", (E,N))\n",
    "        tic = time.perf_counter()\n",
    "        decrypt(enc,(D,N))\n",
    "        toc = time.perf_counter()\n",
    "        \n",
    "        timings.append(toc - tic)\n",
    "\n",
    "    avg_timing.append(min(timings))"
   ]
  },
  {
   "cell_type": "code",
   "execution_count": 47,
   "id": "61100ca1-c5bc-4f5d-abc9-35e883827bee",
   "metadata": {
    "tags": []
   },
   "outputs": [
    {
     "data": {
      "text/plain": [
       "Text(0.5, 0, 'N')"
      ]
     },
     "execution_count": 47,
     "metadata": {},
     "output_type": "execute_result"
    },
    {
     "data": {
      "image/png": "[encoded data removed]",
      "text/plain": [
       "<Figure size 640x480 with 1 Axes>"
      ]
     },
     "metadata": {},
     "output_type": "display_data"
    }
   ],
   "source": [
    "plt.plot(NN[::Ndots], avg_timing, \"b\")\n",
    "plt.ylabel(\"Seconds\")\n",
    "plt.xlabel(\"N\")"
   ]
  },
  {
   "cell_type": "code",
   "execution_count": 45,
   "id": "0a85900a-3c7b-4462-8ee1-4ef9bde2cb2c",
   "metadata": {},
   "outputs": [
    {
     "data": {
      "text/plain": [
       "28.678381999999374"
      ]
     },
     "execution_count": 45,
     "metadata": {},
     "output_type": "execute_result"
    },
    {
     "data": {
      "image/png": "[encoded data removed]",
      "text/plain": [
       "<Figure size 640x480 with 1 Axes>"
      ]
     },
     "metadata": {},
     "output_type": "display_data"
    }
   ],
   "source": [
    "x = [len(str(n).encode()) for n in NN]\n",
    "plt.plot(x[::Ndots], avg_timing, \"b\")\n",
    "plt.ylabel(\"Seconds\")\n",
    "plt.xlabel(\"N\")\n",
    "sum(avg_timing)*rep"
   ]
  },
  {
   "cell_type": "code",
   "execution_count": null,
   "id": "8e051ff7",
   "metadata": {},
   "outputs": [],
   "source": []
  }
 ],
 "metadata": {
  "kernelspec": {
   "display_name": "Python 3 (ipykernel)",
   "language": "python",
   "name": "python3"
  },
  "language_info": {
   "codemirror_mode": {
    "name": "ipython",
    "version": 3
   },
   "file_extension": ".py",
   "mimetype": "text/x-python",
   "name": "python",
   "nbconvert_exporter": "python",
   "pygments_lexer": "ipython3",
   "version": "3.9.13"
  }
 },
 "nbformat": 4,
 "nbformat_minor": 5
}
